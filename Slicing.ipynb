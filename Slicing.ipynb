{
  "nbformat": 4,
  "nbformat_minor": 0,
  "metadata": {
    "colab": {
      "provenance": [],
      "authorship_tag": "ABX9TyO/p6K6px5YIxD03j7uctKl",
      "include_colab_link": true
    },
    "kernelspec": {
      "name": "python3",
      "display_name": "Python 3"
    },
    "language_info": {
      "name": "python"
    }
  },
  "cells": [
    {
      "cell_type": "markdown",
      "metadata": {
        "id": "view-in-github",
        "colab_type": "text"
      },
      "source": [
        "<a href=\"https://colab.research.google.com/github/alissonacs/Hands-on-Python-for-Finance/blob/master/Slicing.ipynb\" target=\"_parent\"><img src=\"https://colab.research.google.com/assets/colab-badge.svg\" alt=\"Open In Colab\"/></a>"
      ]
    },
    {
      "cell_type": "code",
      "execution_count": 2,
      "metadata": {
        "colab": {
          "base_uri": "https://localhost:8080/"
        },
        "id": "nJGMTiQWk85u",
        "outputId": "87cdff5c-2762-470e-b284-e732e5aa3d29"
      },
      "outputs": [
        {
          "output_type": "stream",
          "name": "stdout",
          "text": [
            "3\n",
            "7\n",
            "We sell  7  kinds of pizza\n",
            "[[2, 'pepperoni'], [6, 'pineapple'], [1, 'cheese'], [3, 'sausage'], [2, 'olives'], [7, 'anchovies'], [2, 'mushroom']]\n",
            "[[1, 'cheese'], [2, 'mushroom'], [2, 'olives'], [2, 'pepperoni'], [3, 'sausage'], [6, 'pineapple'], [7, 'anchovies']]\n",
            "The Cheapest pizza is  [1, 'cheese']\n",
            "The Priciest pizza is  [7, 'anchovies']\n",
            "[[1, 'cheese'], [2, 'mushroom'], [2, 'olives'], [2, 'pepperoni'], [2.5, 'pepper'], [3, 'sausage'], [6, 'pineapple'], [7, 'anchovies']]\n",
            "List of 3 cheapest pizzas: [[1, 'cheese'], [2, 'mushroom'], [2, 'olives']]\n"
          ]
        }
      ],
      "source": [
        "toppings = [\"pepperoni\", \"pineapple\",\"cheese\",\"sausage\",\"olives\",\"anchovies\",\"mushrooms\"]\n",
        "\n",
        "prices = [2,6,1,3,2,7,2]\n",
        "\n",
        "num_two_dollar_slices = prices.count(2)\n",
        "print(num_two_dollar_slices)\n",
        "\n",
        "num_pizzas = len(toppings)\n",
        "print(num_pizzas)\n",
        "\n",
        "print(\"We sell \", num_pizzas, \" kinds of pizza\")\n",
        "\n",
        "pizza_and_prices = [[2,\"pepperoni\"],[6,\"pineapple\"],[1,\"cheese\"],[3,\"sausage\"],[2,\"olives\"],[7,\"anchovies\"],[2,\"mushroom\"]]\n",
        "\n",
        "print(pizza_and_prices)\n",
        "\n",
        "pizza_and_prices.sort()\n",
        "print(pizza_and_prices)\n",
        "\n",
        "cheapest_pizza = pizza_and_prices[0]\n",
        "print(\"The Cheapest pizza is \",cheapest_pizza)\n",
        "\n",
        "priciest_pizza = pizza_and_prices[-1]\n",
        "print(\"The Priciest pizza is \",priciest_pizza)\n",
        "\n",
        "pizza_and_prices.insert(4,[2.5,\"pepper\"])\n",
        "print(pizza_and_prices)\n",
        "\n",
        "three_cheapest = pizza_and_prices[:3]\n",
        "print(\"List of 3 cheapest pizzas:\", three_cheapest)\n"
      ]
    }
  ]
}