{
  "nbformat": 4,
  "nbformat_minor": 0,
  "metadata": {
    "colab": {
      "provenance": [],
      "authorship_tag": "ABX9TyNI+xbiZmeIWGFoyGrMgO21",
      "include_colab_link": true
    },
    "kernelspec": {
      "name": "python3",
      "display_name": "Python 3"
    },
    "language_info": {
      "name": "python"
    }
  },
  "cells": [
    {
      "cell_type": "markdown",
      "metadata": {
        "id": "view-in-github",
        "colab_type": "text"
      },
      "source": [
        "<a href=\"https://colab.research.google.com/github/alissonacs/Hands-on-Python-for-Finance/blob/master/Shipping.ipynb\" target=\"_parent\"><img src=\"https://colab.research.google.com/assets/colab-badge.svg\" alt=\"Open In Colab\"/></a>"
      ]
    },
    {
      "cell_type": "code",
      "execution_count": 1,
      "metadata": {
        "colab": {
          "base_uri": "https://localhost:8080/"
        },
        "id": "OHrbVqBPjYg5",
        "outputId": "da5694ac-059b-4ed7-f1dc-c3528aaa4773"
      },
      "outputs": [
        {
          "output_type": "stream",
          "name": "stdout",
          "text": [
            "Ground Shipping : 21.5\n",
            "Ground Shipping Premium:  125\n",
            "Drone Shipping:  4.5\n",
            "Drone Shipping is the best shipping option: 4.5\n"
          ]
        }
      ],
      "source": [
        "weight = 1\n",
        "flat_charge = 20.00\n",
        "if weight == 0:\n",
        "  print(\" Error weight equal zero\")\n",
        "#Ground Shipping\n",
        "cost = 0\n",
        "if weight <= 2 and weight > 0:\n",
        "  cost =(weight * 1.50) + flat_charge\n",
        "  print(\"Ground Shipping :\", cost)\n",
        "elif weight > 2 and weight <= 6:\n",
        "  cost =(weight * 3.00) + flat_charge\n",
        "  print(\"Ground Shipping :\", cost)\n",
        "elif weight > 6 and weight <= 10:\n",
        "  cost =(weight * 4.00) + flat_charge\n",
        "  print(\"Ground Shipping :\", cost)\n",
        "elif weight > 10 :\n",
        "  cost =(weight * 4.75) + flat_charge\n",
        "  print(\"Ground Shipping :\", cost)\n",
        "\n",
        "\n",
        "#Ground Shipping Premium\n",
        "cost_ground_premium = 125\n",
        "print(\"Ground Shipping Premium: \", cost_ground_premium)\n",
        "\n",
        "#Drone Shipping\n",
        "\n",
        "if weight <= 2 and weight > 0:\n",
        "  cost_drone =weight * 4.50\n",
        "  print(\"Drone Shipping: \", cost_drone)\n",
        "elif weight > 2 and weight <= 6:\n",
        "  cost_drone = weight * 9.00\n",
        "  print(\"Drone Shipping: \", cost_drone)\n",
        "elif weight > 6 and weight <= 10:\n",
        "  cost_drone =weight * 12.00\n",
        "  print(\"Drone Shipping: \", cost_drone)\n",
        "elif weight > 10 :\n",
        "  cost_drone =weight * 14.25\n",
        "  print(\"Drone Shipping: \", cost_drone)\n",
        "\n",
        "#The Best Option\n",
        "\n",
        "if (cost < cost_ground_premium) and cost < cost_drone:\n",
        "  print(\"Ground Shipping is the best shipping option\", cost)\n",
        "elif  cost_ground_premium < cost and cost_ground_premium < cost_drone:\n",
        " print(\"Ground Shipping Premium is the best shipping option:\", cost_ground_premium)\n",
        "elif cost_drone < cost and cost_drone < cost_ground_premium:\n",
        " print(\"Drone Shipping is the best shipping option:\", cost_drone)\n",
        "elif cost == cost_ground_premium:\n",
        "  print(\"Ground Shipping or Ground Shipping Premium are the same price: \", cost,\" \", cost_premium )\n",
        "elif cost == cost_drone:\n",
        "   print(\"Ground Shipping or Drone Shipping are the same price: \", cost,\" \", cost_drone )\n",
        "elif cost_ground_premium == cost_drone:\n",
        "   print(\"Ground Shipping Premium or Drone Shipping are the same price: \", cost_premium,\" \", cost_drone )\n"
      ]
    }
  ]
}